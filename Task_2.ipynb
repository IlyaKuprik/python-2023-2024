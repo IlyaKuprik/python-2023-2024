{
 "cells": [
  {
   "cell_type": "markdown",
   "metadata": {},
   "source": [
    "# Задание 2.\n",
    "\n",
    "**NB. Все упражнения ниже нужно делать без использования циклов Python в явном (`while`, `for`) и неявном виде (list comprehension, `map`, `reduce` и пр)**\n",
    "\n",
    "Задания по манипуляциям с массивами чаще всего решаются в одно/два выражения. "
   ]
  },
  {
   "cell_type": "code",
   "execution_count": 2,
   "metadata": {},
   "outputs": [
    {
     "data": {
      "text/plain": [
       "array([[95,  4, 74, ..., 77, 76, 80],\n",
       "       [77, 81, 81, ..., 48, 28, 23],\n",
       "       [54, 46, 83, ..., 10, 90, 68],\n",
       "       ...,\n",
       "       [ 7, 74, 47, ..., 77, 18, 38],\n",
       "       [59, 91, 48, ..., 34, 42, 90],\n",
       "       [21, 52, 14, ...,  5, 94, 14]])"
      ]
     },
     "execution_count": 2,
     "metadata": {},
     "output_type": "execute_result"
    }
   ],
   "source": [
    "%matplotlib inline\n",
    "\n",
    "import numpy as np\n",
    "import matplotlib.pyplot as plt\n",
    "import seaborn as sns\n",
    "sns.set_theme()\n",
    "\n",
    "A = np.random.randint(0, 100, size=(200, 50))\n",
    "A"
   ]
  },
  {
   "cell_type": "markdown",
   "metadata": {},
   "source": [
    "# Задание 2.1 (2 балла)\n",
    "\n",
    "Сгенерируйте новый массив, в котором столбцы массива `A` переставлены в случайном порядке"
   ]
  },
  {
   "cell_type": "code",
   "execution_count": 3,
   "metadata": {},
   "outputs": [
    {
     "data": {
      "text/plain": [
       "array([[45, 77, 76, ..., 96, 19, 87],\n",
       "       [93, 48, 36, ..., 25, 10, 17],\n",
       "       [41, 10, 92, ..., 88, 49, 19],\n",
       "       ...,\n",
       "       [ 2, 77, 48, ..., 96, 13, 45],\n",
       "       [86, 34, 68, ..., 76, 83, 71],\n",
       "       [97,  5, 75, ..., 30,  1, 87]])"
      ]
     },
     "execution_count": 3,
     "metadata": {},
     "output_type": "execute_result"
    }
   ],
   "source": [
    "B = A[:, np.random.permutation(A.shape[1])]\n",
    "B"
   ]
  },
  {
   "cell_type": "markdown",
   "metadata": {},
   "source": [
    "# Задание 2.2 (5 баллов)\n",
    "\n",
    "Сгенерируйте новый массив, который содержит только те строки массива `A`, в которых: \n",
    "- сумма элементов по четным столбцам (индексы $0, 2, \\ldots$) больше среднего значения (по всему массиву) суммы элементов по нечетным столбцам (индексы $1, 3, \\ldots$) "
   ]
  },
  {
   "cell_type": "code",
   "execution_count": 5,
   "metadata": {},
   "outputs": [
    {
     "data": {
      "text/plain": [
       "(array([[95,  4, 74, ..., 77, 76, 80],\n",
       "        [77, 81, 81, ..., 48, 28, 23],\n",
       "        [54, 46, 83, ..., 10, 90, 68],\n",
       "        ...,\n",
       "        [11, 62, 89, ..., 65, 73, 74],\n",
       "        [80, 91, 15, ..., 63, 95, 24],\n",
       "        [59, 91, 48, ..., 34, 42, 90]]),\n",
       " (97, 50))"
      ]
     },
     "execution_count": 5,
     "metadata": {},
     "output_type": "execute_result"
    }
   ],
   "source": [
    "m = A[:,::2].sum(axis=1) > A[:,1::2].sum(axis=1).mean()\n",
    "B = A[m]\n",
    "B, B.shape"
   ]
  },
  {
   "cell_type": "markdown",
   "metadata": {},
   "source": [
    "# Задача 2.3 (3 балла)\n",
    "\n",
    "Найдите индекс строки массива `A`, в которой разница между максимальным и минимальным элементом максимальна"
   ]
  },
  {
   "cell_type": "code",
   "execution_count": 16,
   "metadata": {},
   "outputs": [
    {
     "data": {
      "text/plain": [
       "2"
      ]
     },
     "execution_count": 16,
     "metadata": {},
     "output_type": "execute_result"
    }
   ],
   "source": [
    "diff = A.max(axis=1) - A.min(axis=1)\n",
    "np.where(diff==diff.max())[0][0]"
   ]
  },
  {
   "cell_type": "markdown",
   "metadata": {},
   "source": [
    "# Задание 2.4 (7 баллов)\n",
    "\n",
    "Сгенерируйте массив той же размерности, что и `A`, но в котором каждый элемент заменен на его порядковый номер (начиная с 1) в отсортированном по возрастанию массиве из элементов `A`\n",
    "\n",
    "Если `A` выглядит так:\n",
    "$$\n",
    "\\begin{pmatrix}\n",
    "12 & 14\\\\\n",
    "1 & 2\n",
    "\\end{pmatrix}\n",
    "$$\n",
    "то результат должен быть\n",
    "$$\n",
    "\\begin{pmatrix}\n",
    "3 & 4\\\\\n",
    "1 & 2\n",
    "\\end{pmatrix}\n",
    "$$\n",
    "\n",
    "*Tip: рассмотрите возможность неоднократного применения [argsort()](https://numpy.org/doc/stable/reference/generated/numpy.ndarray.argsort.html)*"
   ]
  },
  {
   "cell_type": "code",
   "execution_count": 20,
   "metadata": {},
   "outputs": [
    {
     "data": {
      "text/plain": [
       "array([[9583,  458, 7442, ..., 7711, 7594, 8021],\n",
       "       [7668, 8084, 8094, ..., 4786, 2745, 2293],\n",
       "       [5401, 4576, 8359, ..., 1042, 9045, 6757],\n",
       "       ...,\n",
       "       [ 719, 7408, 4685, ..., 7669, 1862, 3729],\n",
       "       [5909, 9170, 4785, ..., 3360, 4094, 9067],\n",
       "       [2114, 5212, 1459, ...,  515, 9489, 1410]])"
      ]
     },
     "execution_count": 20,
     "metadata": {},
     "output_type": "execute_result"
    }
   ],
   "source": [
    "(np.asarray(A).reshape(-1).argsort().argsort() + 1).reshape(A.shape)"
   ]
  },
  {
   "cell_type": "markdown",
   "metadata": {},
   "source": [
    "# Задание 2.5 (2 балла)\n",
    "\n",
    "Примените $\\min-\\max$ - нормализацию к строкам массива `A`. То есть нужно получить новый массивы, в каждой строке которого максимальный элементы равен $1$, минимальный - $0$. "
   ]
  },
  {
   "cell_type": "code",
   "execution_count": 31,
   "metadata": {},
   "outputs": [
    {
     "data": {
      "text/plain": [
       "array([[0.98958333, 0.04166667, 0.77083333, ..., 0.80208333, 0.79166667,\n",
       "        0.83333333],\n",
       "       [0.76923077, 0.81318681, 0.81318681, ..., 0.45054945, 0.23076923,\n",
       "        0.17582418],\n",
       "       [0.54545455, 0.46464646, 0.83838384, ..., 0.1010101 , 0.90909091,\n",
       "        0.68686869],\n",
       "       ...,\n",
       "       [0.05263158, 0.75789474, 0.47368421, ..., 0.78947368, 0.16842105,\n",
       "        0.37894737],\n",
       "       [0.59183673, 0.91836735, 0.47959184, ..., 0.33673469, 0.41836735,\n",
       "        0.90816327],\n",
       "       [0.20408163, 0.52040816, 0.13265306, ..., 0.04081633, 0.94897959,\n",
       "        0.13265306]])"
      ]
     },
     "execution_count": 31,
     "metadata": {},
     "output_type": "execute_result"
    }
   ],
   "source": [
    "(A - A.min(axis=1)[:, np.newaxis]) / (A.max(axis=1) - A.min(axis=1))[:, np.newaxis]"
   ]
  },
  {
   "cell_type": "markdown",
   "metadata": {},
   "source": [
    "# Задание 2.6 (2 балла)\n",
    "\n",
    "Сгенерируйте новый трехмерный массив, размерности $10 \\times 200 \\times 50$. Подмассивы по нулевой оси должны состоять из элементов `A`, умноженных на $1 - 10$ соответственно"
   ]
  },
  {
   "cell_type": "code",
   "execution_count": 40,
   "metadata": {},
   "outputs": [
    {
     "data": {
      "text/plain": [
       "array([[[ 95,   4,  74, ...,  77,  76,  80],\n",
       "        [ 77,  81,  81, ...,  48,  28,  23],\n",
       "        [ 54,  46,  83, ...,  10,  90,  68],\n",
       "        ...,\n",
       "        [  7,  74,  47, ...,  77,  18,  38],\n",
       "        [ 59,  91,  48, ...,  34,  42,  90],\n",
       "        [ 21,  52,  14, ...,   5,  94,  14]],\n",
       "\n",
       "       [[190,   8, 148, ..., 154, 152, 160],\n",
       "        [154, 162, 162, ...,  96,  56,  46],\n",
       "        [108,  92, 166, ...,  20, 180, 136],\n",
       "        ...,\n",
       "        [ 14, 148,  94, ..., 154,  36,  76],\n",
       "        [118, 182,  96, ...,  68,  84, 180],\n",
       "        [ 42, 104,  28, ...,  10, 188,  28]],\n",
       "\n",
       "       [[285,  12, 222, ..., 231, 228, 240],\n",
       "        [231, 243, 243, ..., 144,  84,  69],\n",
       "        [162, 138, 249, ...,  30, 270, 204],\n",
       "        ...,\n",
       "        [ 21, 222, 141, ..., 231,  54, 114],\n",
       "        [177, 273, 144, ..., 102, 126, 270],\n",
       "        [ 63, 156,  42, ...,  15, 282,  42]],\n",
       "\n",
       "       ...,\n",
       "\n",
       "       [[760,  32, 592, ..., 616, 608, 640],\n",
       "        [616, 648, 648, ..., 384, 224, 184],\n",
       "        [432, 368, 664, ...,  80, 720, 544],\n",
       "        ...,\n",
       "        [ 56, 592, 376, ..., 616, 144, 304],\n",
       "        [472, 728, 384, ..., 272, 336, 720],\n",
       "        [168, 416, 112, ...,  40, 752, 112]],\n",
       "\n",
       "       [[855,  36, 666, ..., 693, 684, 720],\n",
       "        [693, 729, 729, ..., 432, 252, 207],\n",
       "        [486, 414, 747, ...,  90, 810, 612],\n",
       "        ...,\n",
       "        [ 63, 666, 423, ..., 693, 162, 342],\n",
       "        [531, 819, 432, ..., 306, 378, 810],\n",
       "        [189, 468, 126, ...,  45, 846, 126]],\n",
       "\n",
       "       [[950,  40, 740, ..., 770, 760, 800],\n",
       "        [770, 810, 810, ..., 480, 280, 230],\n",
       "        [540, 460, 830, ..., 100, 900, 680],\n",
       "        ...,\n",
       "        [ 70, 740, 470, ..., 770, 180, 380],\n",
       "        [590, 910, 480, ..., 340, 420, 900],\n",
       "        [210, 520, 140, ...,  50, 940, 140]]])"
      ]
     },
     "execution_count": 40,
     "metadata": {},
     "output_type": "execute_result"
    }
   ],
   "source": [
    "np.array(range(1,11))[:, np.newaxis, np.newaxis] * np.resize(A, (10,200,50))"
   ]
  },
  {
   "cell_type": "markdown",
   "metadata": {},
   "source": [
    "# Задание 2.7 (2 балла)\n",
    "\n",
    "Создайте новый массив, такой же размерности, как и `A`, в котором сначала сгруппированы четные столбцы `A`, потом  нечетные. Используйте [np.concat()](https://numpy.org/doc/stable/reference/generated/numpy.concatenate.html) "
   ]
  },
  {
   "cell_type": "code",
   "execution_count": 42,
   "metadata": {},
   "outputs": [
    {
     "data": {
      "text/plain": [
       "array([[95, 74, 29, ..., 27, 77, 80],\n",
       "       [77, 81, 42, ..., 91, 48, 23],\n",
       "       [54, 83, 80, ..., 14, 10, 68],\n",
       "       ...,\n",
       "       [ 7, 47, 86, ..., 81, 77, 38],\n",
       "       [59, 48, 72, ..., 51, 34, 90],\n",
       "       [21, 14, 28, ..., 23,  5, 14]])"
      ]
     },
     "execution_count": 42,
     "metadata": {},
     "output_type": "execute_result"
    }
   ],
   "source": [
    "even_columns = A[:, ::2]\n",
    "odd_columns = A[:, 1::2]\n",
    "np.concatenate((even_columns, odd_columns), axis=1)"
   ]
  },
  {
   "cell_type": "markdown",
   "metadata": {},
   "source": [
    "# Задание 2.8 (2 балла)\n",
    "\n",
    "Посчитайте количество строк массива `A`, в который все элементы больше 5. Используйте [np.all()](https://numpy.org/doc/stable/reference/generated/numpy.all.html) "
   ]
  },
  {
   "cell_type": "code",
   "execution_count": 47,
   "metadata": {},
   "outputs": [
    {
     "data": {
      "text/plain": [
       "11"
      ]
     },
     "execution_count": 47,
     "metadata": {},
     "output_type": "execute_result"
    }
   ],
   "source": [
    "np.all(A > 5, axis=1).sum()"
   ]
  },
  {
   "cell_type": "markdown",
   "metadata": {},
   "source": [
    "# Задание 2.9 (2 балла)\n",
    "\n",
    "Поделите массив `A` горизонтально на 10 частей и создайте новый массив размерности $20 \\times 50$, который является средним этих частей. Используйте [np.split()](https://numpy.org/doc/stable/reference/generated/numpy.split.html)"
   ]
  },
  {
   "cell_type": "code",
   "execution_count": 64,
   "metadata": {},
   "outputs": [
    {
     "data": {
      "text/plain": [
       "(array([[48.3, 45.3, 31.5, 63.7, 46.5, 41.7, 50.9, 57. , 38.7, 46.3, 58.2,\n",
       "         39.9, 49.9, 45. , 29.9, 70.4, 40.9, 43.2, 40.4, 44.2, 42.4, 46.9,\n",
       "         37.3, 51.4, 45.7, 47.4, 56.9, 32.1, 45.2, 44. , 47.6, 48.6, 35. ,\n",
       "         69.5, 40.2, 56.4, 43.5, 52.9, 34.2, 56.9, 70. , 45.3, 47.2, 69.4,\n",
       "         61. , 33.9, 42.9, 52.1, 56.8, 60.5],\n",
       "        [54.9, 56.2, 63.2, 52.1, 49.9, 51. , 48.4, 63.6, 51.4, 37.2, 42.1,\n",
       "         38.6, 60.8, 34.3, 49.7, 46.4, 62.5, 47.5, 52.5, 32.5, 48.7, 72. ,\n",
       "         58.3, 60.9, 50.9, 61.4, 46.4, 38.8, 37.5, 54.3, 35.7, 53.7, 42.4,\n",
       "         58.7, 55.9, 49.7, 58.9, 44.4, 54.8, 33.8, 51. , 46.7, 37.8, 49. ,\n",
       "         46.6, 54.5, 62.6, 40.1, 50.5, 40.1],\n",
       "        [58.5, 28.2, 45.1, 50. , 68.4, 71.2, 68.9, 42.1, 65.5, 53.6, 33.5,\n",
       "         65.2, 46.1, 44.7, 48.4, 55.7, 62.2, 46.8, 33.5, 55.9, 42.8, 38. ,\n",
       "         55.2, 43.3, 33.8, 46. , 36.8, 63.2, 54.5, 57. , 42.5, 36.7, 60.3,\n",
       "         45.3, 47.9, 32.3, 57.7, 56.2, 67.1, 51.3, 41.4, 40.7, 49.1, 43.6,\n",
       "         40.6, 47. , 43.9, 47.3, 46.7, 46.3],\n",
       "        [80.1, 61.3, 56.5, 56.4, 45. , 39.6, 38.8, 50.2, 44.5, 39.6, 53.9,\n",
       "         45.5, 60.4, 44.9, 41.2, 36.1, 52.3, 56.4, 50.7, 45.7, 52.5, 47. ,\n",
       "         46. , 36.1, 48.9, 28.8, 44.9, 39.5, 46.7, 53. , 58. , 63.4, 41.5,\n",
       "         48.2, 58. , 43.6, 52.7, 46.3, 44.7, 32.9, 53. , 59. , 61.6, 59.8,\n",
       "         43.8, 48. , 40.7, 48.1, 62.3, 45.6],\n",
       "        [54.1, 43.6, 62.3, 49. , 38.9, 47.2, 42.7, 60.7, 38.4, 39.8, 56.4,\n",
       "         35.3, 55. , 43.2, 53.4, 40.8, 38.6, 40.9, 51. , 56.1, 52.6, 56.1,\n",
       "         66. , 40.2, 60. , 51.6, 46.7, 48. , 62. , 56.8, 35.6, 52.8, 52.1,\n",
       "         58.9, 42.1, 72.3, 56.1, 53. , 32.9, 45.2, 51.9, 53.2, 69.3, 59.9,\n",
       "         55.9, 57.1, 56.2, 46.5, 53.6, 40.1],\n",
       "        [52.8, 38. , 48.5, 41. , 43.4, 45. , 43.7, 60.9, 42.6, 45.4, 61.5,\n",
       "         40.7, 27.5, 44.8, 38.3, 54.9, 61.3, 50. , 58.6, 49.7, 77.5, 67. ,\n",
       "         56.7, 56.9, 49.1, 45.9, 39. , 41.9, 59.2, 66.3, 47.4, 38.8, 49. ,\n",
       "         49.8, 56. , 40.7, 57.6, 54.4, 65.6, 40.1, 45.8, 46.5, 50.8, 59.5,\n",
       "         65.5, 41.7, 54.6, 43.2, 46.4, 54.9],\n",
       "        [54.1, 28.4, 45.6, 60.5, 59.7, 51.9, 53.4, 55.1, 57.8, 52.1, 42.1,\n",
       "         50.1, 68.7, 57.9, 55. , 51.7, 46.1, 52.8, 53.4, 36.3, 52.3, 52. ,\n",
       "         37.5, 55.7, 57.9, 53.5, 48.9, 62. , 35.8, 53.5, 40.2, 58.7, 48.7,\n",
       "         48.7, 44. , 69.3, 72.4, 51.8, 54.9, 53.4, 41.6, 51.7, 48.4, 30.1,\n",
       "         56.2, 59. , 43.9, 38.9, 40.8, 49.8],\n",
       "        [42.1, 39.3, 73.7, 57.6, 56. , 49.9, 55.3, 53.2, 50. , 32.3, 54.1,\n",
       "         69.3, 55.6, 48.2, 51.8, 56.1, 60.9, 52.3, 43.3, 55.8, 49.6, 58.3,\n",
       "         51.6, 59.8, 45.2, 66.8, 54.1, 47.2, 65.1, 46.5, 57. , 73.2, 45.4,\n",
       "         57.8, 52.9, 47. , 41. , 56.2, 55. , 45.7, 43.7, 43.5, 41.9, 36.8,\n",
       "         49.5, 51. , 34.5, 40.1, 48.4, 65.7],\n",
       "        [41.6, 55.8, 50.9, 49.3, 50.9, 48.6, 40.1, 58.6, 52.6, 54.9, 52. ,\n",
       "         43. , 60.5, 49.6, 62.1, 44.5, 49. , 44.6, 55.7, 55.5, 49.5, 45.5,\n",
       "         47.1, 51. , 57.3, 38.3, 34.1, 43.9, 45.1, 60.9, 34.1, 54.6, 47.5,\n",
       "         57. , 39.5, 32.3, 29.3, 46. , 46.5, 62.7, 44.4, 56.5, 63.7, 33.6,\n",
       "         56.4, 41.5, 59.1, 61.1, 64.3, 40.9],\n",
       "        [49.5, 56.5, 28.7, 38.3, 35.4, 47.9, 46.9, 36.5, 52. , 60.3, 47. ,\n",
       "         53.3, 65.9, 58.7, 54.9, 51.1, 53.8, 56.4, 40.6, 65.6, 41.4, 30.6,\n",
       "         54.5, 55.6, 54.1, 43.1, 38.3, 36.9, 44.7, 48.2, 39.9, 39.6, 56.7,\n",
       "         43.5, 52.2, 59.8, 44.7, 46.2, 52.6, 43.8, 41.8, 39.6, 62.6, 43.9,\n",
       "         46.5, 45.9, 65.3, 34.1, 48.1, 53.3],\n",
       "        [61.4, 66. , 54.6, 58.2, 48.4, 63.4, 47.4, 51.3, 27.3, 56.8, 44.2,\n",
       "         72.3, 50.2, 36.9, 63.3, 51. , 42.3, 52. , 50.7, 52.9, 36.1, 50.2,\n",
       "         37.8, 66.8, 65.4, 39.6, 61.5, 57.6, 76.6, 56.5, 47.8, 40.5, 44. ,\n",
       "         47.5, 43.5, 54.8, 30.7, 62.9, 32.3, 59.8, 49.8, 54.8, 35.7, 46.7,\n",
       "         48.3, 66.1, 42.4, 44.3, 40.4, 47.7],\n",
       "        [43. , 58.1, 42.1, 50.7, 63.2, 46.6, 34.7, 27.6, 45.3, 63.6, 45.4,\n",
       "         45.8, 39.7, 55.4, 55. , 57.9, 53.9, 49.6, 43.9, 42.7, 45.5, 48.6,\n",
       "         53.4, 54.2, 45.9, 47.8, 49.2, 54.1, 65.8, 33.7, 51.6, 46.4, 53.4,\n",
       "         38.6, 35.2, 51.7, 44.1, 57.6, 53.7, 30.6, 51. , 77.4, 57.7, 47.7,\n",
       "         42.7, 67.7, 51.3, 50.3, 57.7, 42.2],\n",
       "        [49.6, 37.1, 49.6, 65.9, 46.8, 53.2, 44.9, 60.7, 40.4, 33.8, 53.9,\n",
       "         34.9, 48.5, 48. , 50.2, 33.7, 44.5, 45. , 59. , 52.1, 45.1, 50.6,\n",
       "         57.3, 48.4, 61.5, 59.7, 33.4, 54.4, 62.4, 40.1, 42.3, 46.6, 47.1,\n",
       "         51. , 41.5, 38.6, 60.2, 48.6, 74.5, 44.7, 61.9, 39. , 57.9, 60.4,\n",
       "         50.8, 42. , 53.8, 57.5, 58.2, 48.2],\n",
       "        [46.5, 50.9, 55.2, 66.1, 40.7, 49.6, 39.8, 51.6, 42.3, 44.6, 52.3,\n",
       "         25.2, 53.9, 47.2, 41.4, 48.2, 51.8, 47.8, 42.7, 47.3, 72.3, 37. ,\n",
       "         49.7, 46.7, 58.7, 53.8, 50.1, 66.5, 43.3, 61.5, 36.4, 40.2, 50.9,\n",
       "         54.7, 39.4, 56.2, 43.9, 42.5, 61.5, 46.2, 55.4, 43.9, 49.2, 51.6,\n",
       "         55.9, 39.7, 40.6, 48.7, 45.6, 49.9],\n",
       "        [54.4, 49.4, 36.6, 63.4, 53.7, 51.8, 77.1, 43. , 39.1, 58.5, 51.4,\n",
       "         54.6, 52.6, 48.8, 57.3, 58. , 40. , 46.5, 70.8, 40.7, 43.6, 61.6,\n",
       "         49.6, 41.3, 45.7, 55. , 34. , 55.3, 45.9, 65.7, 48.8, 64.4, 52.1,\n",
       "         41.9, 69.1, 58.2, 60.3, 46. , 51.1, 42.1, 40.8, 56.9, 29.8, 64. ,\n",
       "         48.1, 57.9, 38. , 42.7, 51.9, 50.1],\n",
       "        [46.9, 55.6, 44. , 57.6, 42.8, 47.4, 36.2, 56. , 47.3, 47.7, 44.2,\n",
       "         52.1, 73.6, 47.6, 50.2, 52.4, 50. , 42.8, 61.1, 40. , 38.2, 38.6,\n",
       "         65.8, 51.8, 38.1, 54.4, 55.6, 44. , 43.7, 50.1, 48.5, 35.5, 38.6,\n",
       "         65.7, 47.7, 56.1, 49.4, 50.6, 46.5, 47. , 36.1, 50.8, 44.9, 43.7,\n",
       "         53.2, 39.1, 47. , 70.9, 44. , 54.5],\n",
       "        [56. , 67.1, 36.1, 52.3, 66.6, 49.4, 59.8, 52.8, 64.3, 59.1, 60.7,\n",
       "         56.6, 74.8, 57.4, 54.9, 58.3, 62.9, 56.9, 53.4, 43.1, 59.2, 37.8,\n",
       "         53.9, 25.3, 48.9, 56. , 37.9, 54. , 50.6, 58.6, 43.7, 36.9, 73.4,\n",
       "         56. , 55.4, 67.6, 41.6, 37.6, 49.9, 47.3, 59.7, 45.2, 42.4, 50. ,\n",
       "         31.6, 71.2, 41.3, 54.6, 70. , 37.7],\n",
       "        [42.7, 59.7, 58.4, 58.6, 63.2, 45.4, 49.5, 39.8, 60.6, 47.5, 36.2,\n",
       "         65.3, 48.8, 50.8, 44.7, 62.6, 50.8, 62.2, 44.2, 65.1, 73.4, 41.4,\n",
       "         44.7, 46.2, 44.1, 47.3, 56.5, 45.7, 43.4, 55.1, 47.2, 48.4, 46.9,\n",
       "         68.7, 42.4, 45.9, 64.2, 39.9, 48.6, 60.5, 33.2, 46.6, 42.4, 39.2,\n",
       "         37.5, 51.8, 39.2, 66.2, 40.3, 60.7],\n",
       "        [55.6, 74.3, 47.5, 43.3, 68.2, 37. , 30.8, 65.3, 48.5, 75.3, 58.8,\n",
       "         38.9, 52.7, 37.8, 54.8, 27.5, 35.3, 62.7, 58.6, 43.8, 51.7, 56. ,\n",
       "         49.4, 41.4, 57.1, 44.1, 57.8, 47.8, 46.8, 46.3, 46.9, 59.5, 43.2,\n",
       "         65. , 59.7, 36.5, 70.5, 62.1, 39.2, 44.8, 50. , 34.3, 48.2, 40.2,\n",
       "         47.4, 57.3, 55. , 54. , 49.8, 67.1],\n",
       "        [55.1, 45.8, 51.6, 50.1, 43.5, 53.3, 47.9, 45.1, 44.3, 44.6, 64.2,\n",
       "         53.7, 41.1, 48.3, 44.5, 46.2, 32.1, 41.4, 52.2, 49.5, 52. , 55.8,\n",
       "         60.4, 66.1, 59.8, 50.7, 57.4, 64. , 49.6, 48.8, 53.1, 54.3, 46.4,\n",
       "         48.7, 54.8, 43.7, 64.3, 59.4, 45.3, 43.6, 61.5, 29.8, 35. , 49.9,\n",
       "         42.8, 54.9, 50.8, 28.2, 62.3, 57. ]]),\n",
       " (20, 50))"
      ]
     },
     "execution_count": 64,
     "metadata": {},
     "output_type": "execute_result"
    }
   ],
   "source": [
    "b = np.array(np.split(A, 10, axis=0)).mean(axis=0)\n",
    "b, b.shape"
   ]
  },
  {
   "cell_type": "markdown",
   "metadata": {},
   "source": [
    "# Задание 2.10 (4 балла)\n",
    "\n",
    "\"Разверните\" массив `A` в одномерный массив. Оставьте в нём только уникальные элементы в том же порядке, в котором они встречаются в массиве. Используйте [np.unique()](https://numpy.org/doc/stable/reference/generated/numpy.unique.html)"
   ]
  },
  {
   "cell_type": "code",
   "execution_count": 82,
   "metadata": {},
   "outputs": [
    {
     "data": {
      "text/plain": [
       "array([95,  4, 74, ...,  5, 94, 14])"
      ]
     },
     "execution_count": 82,
     "metadata": {},
     "output_type": "execute_result"
    }
   ],
   "source": [
    "_, indexes = np.unique(A.flatten(), True)\n",
    "A.flatten()[indexes.sort()][0]"
   ]
  },
  {
   "cell_type": "markdown",
   "metadata": {},
   "source": [
    "# Задание 2.11 (3 балла)\n",
    "\n",
    "Создайте одномерный массив размерности $200$, в котором каждый элемент - евклидово расстояние между соответствующей строкой `A` и \"средней\" строкой `A`"
   ]
  },
  {
   "cell_type": "code",
   "execution_count": 86,
   "metadata": {},
   "outputs": [
    {
     "data": {
      "text/plain": [
       "array([216.98244629, 187.6203134 , 202.52526262, 192.83454566,\n",
       "       202.24886155, 214.94027543, 191.40152037, 194.55444482,\n",
       "       200.55368857, 188.97066439, 212.75528666, 201.88308993,\n",
       "       197.55409892, 195.06812143, 200.42195987, 182.21128395,\n",
       "       204.00265194, 197.90283474, 222.04637353, 218.77619157,\n",
       "       198.84730825, 210.85604568, 177.87310646, 198.39007536,\n",
       "       197.60119433, 177.62435644, 185.32126699, 216.78904954,\n",
       "       211.34228635, 211.25915838, 207.6353101 , 214.41388015,\n",
       "       191.37043136, 206.10044153, 198.37530592, 199.56603418,\n",
       "       201.61109096, 192.88175652, 199.26914463, 213.54309167,\n",
       "       205.97582868, 199.98542947, 206.32147731, 204.32259297,\n",
       "       201.03234068, 185.81849208, 198.91066336, 228.65607799,\n",
       "       197.26163337, 208.98708573, 198.12665646, 201.75188227,\n",
       "       187.91879097, 218.18941771, 197.83559336, 192.17086668,\n",
       "       209.57416826, 212.90075622, 201.69876549, 205.94504607,\n",
       "       196.75294661, 217.476716  , 195.29770096, 220.58699418,\n",
       "       208.15960703, 200.24318216, 214.58947318, 202.95098423,\n",
       "       181.0885474 , 226.57180319, 225.5182742 , 208.54561132,\n",
       "       193.04266886, 202.10230578, 210.93660659, 190.76779602,\n",
       "       186.39126052, 210.21636949, 210.21751116, 205.03787943,\n",
       "       214.28227178, 186.22838667, 217.6907026 , 204.79319325,\n",
       "       192.96533886, 236.40125211, 225.93424265, 208.6239967 ,\n",
       "       216.89006893, 192.85500253, 205.34500724, 181.1074046 ,\n",
       "       228.19553458, 179.76204271, 223.40922541, 227.62915455,\n",
       "       201.48563721, 216.29646784, 218.70645167, 178.45641485,\n",
       "       215.01367863, 211.0818609 , 217.36221383, 204.99700486,\n",
       "       206.3390947 , 227.85546296, 205.83994267, 190.98552825,\n",
       "       199.1063334 , 201.20201788, 193.92143254, 189.58552687,\n",
       "       213.46627837, 174.50109455, 216.89179791, 206.96927791,\n",
       "       200.12726451, 193.00694806, 208.0822001 , 198.71885165,\n",
       "       198.88049678, 200.59589228, 208.14622745, 183.13839576,\n",
       "       207.16276692, 195.88065754, 202.18440098, 198.08652655,\n",
       "       201.5405716 , 194.56847638, 164.2669839 , 202.6421279 ,\n",
       "       183.39537072, 187.28615005, 196.73632608, 184.62977008,\n",
       "       209.01847287, 220.834241  , 199.70058087, 225.45416829,\n",
       "       212.36586826, 210.34769312, 215.50264964, 205.71366508,\n",
       "       220.13980104, 205.03595294, 187.64133873, 212.00016981,\n",
       "       178.15566789, 228.80216782, 191.53363151, 198.50000504,\n",
       "       206.73408524, 195.93512192, 211.46607766, 198.53939659,\n",
       "       212.86829731, 189.60040084, 201.5902577 , 208.29746038,\n",
       "       196.45969561, 201.59457334, 204.70889575, 186.93812345,\n",
       "       178.6634042 , 200.50753602, 193.02495175, 175.37808301,\n",
       "       178.50331089, 210.50727303, 209.55061918, 210.32798673,\n",
       "       199.10608228, 212.13350042, 202.87129417, 219.13044517,\n",
       "       190.37313886, 181.53540151, 197.17908611, 200.36300058,\n",
       "       170.12366678, 216.57015492, 209.41440256, 207.13826783,\n",
       "       167.63055211, 169.54781626, 207.46031428, 202.70072027,\n",
       "       210.64674695, 219.41055581, 197.16184215, 192.48101725,\n",
       "       216.92187995, 217.87595553, 205.77133425, 161.08526314,\n",
       "       205.62692431, 210.93098871, 186.66971367, 205.20434206])"
      ]
     },
     "execution_count": 86,
     "metadata": {},
     "output_type": "execute_result"
    }
   ],
   "source": [
    "mean_row = A.mean(axis=0)\n",
    "np.linalg.norm(A-mean_row, axis=1)"
   ]
  },
  {
   "cell_type": "markdown",
   "metadata": {},
   "source": [
    "# Задание 2.12 (2 балла)\n",
    "\n",
    "Создайте новый массив, который состоит из элементов `A`, измененных по следующим правилам:\n",
    "- если элемент меньше $50$, то он умножается на $2$\n",
    "- в противном случае он умножается на $3$\n",
    "\n",
    "Используйте [np.where()](https://numpy.org/doc/stable/reference/generated/numpy.where.html)"
   ]
  },
  {
   "cell_type": "code",
   "execution_count": 87,
   "metadata": {},
   "outputs": [
    {
     "data": {
      "text/plain": [
       "array([[285,   8, 222, ..., 231, 228, 240],\n",
       "       [231, 243, 243, ...,  96,  56,  46],\n",
       "       [162,  92, 249, ...,  20, 270, 204],\n",
       "       ...,\n",
       "       [ 14, 222,  94, ..., 231,  36,  76],\n",
       "       [177, 273,  96, ...,  68,  84, 270],\n",
       "       [ 42, 156,  28, ...,  10, 282,  28]])"
      ]
     },
     "execution_count": 87,
     "metadata": {},
     "output_type": "execute_result"
    }
   ],
   "source": [
    "np.where(A < 50, A * 2, A * 3)"
   ]
  },
  {
   "cell_type": "markdown",
   "metadata": {},
   "source": [
    "# Задание 2.13 (7 баллов)\n",
    "\n",
    "Разверните массив `A` в одномерный массив. Создайте три новых массива, подсчитав скользящие средние по окнам $3$, $5$, $10$. Найдите сумму этих массивов, выровнив из размерности нулями справа\n",
    "\n",
    "*Tip: реализуйте функцию, которая считает скользящее среднее. Используйте [np.cumsum()](https://numpy.org/doc/stable/reference/generated/numpy.cumsum.html) или [np.convolve()](https://numpy.org/doc/stable/reference/generated/numpy.convolve.html)*"
   ]
  },
  {
   "cell_type": "code",
   "execution_count": 103,
   "metadata": {},
   "outputs": [
    {
     "data": {
      "text/plain": [
       "array([[156.86666667, 128.76666667, 138.3       , ..., 221.16666667,\n",
       "        224.06666667, 211.83333333],\n",
       "       [201.26666667, 172.46666667, 153.36666667, ..., 132.8       ,\n",
       "        142.        , 166.1       ],\n",
       "       [198.6       , 209.83333333, 226.56666667, ..., 168.5       ,\n",
       "        219.9       , 183.9       ],\n",
       "       ...,\n",
       "       [159.16666667, 197.23333333, 199.03333333, ..., 151.93333333,\n",
       "        140.63333333, 170.76666667],\n",
       "       [186.8       , 178.56666667, 152.83333333, ..., 151.93333333,\n",
       "        145.2       , 154.73333333],\n",
       "       [109.1       , 134.56666667, 133.56666667, ..., 112.76666667,\n",
       "        141.96666667, 122.06666667]])"
      ]
     },
     "execution_count": 103,
     "metadata": {},
     "output_type": "execute_result"
    }
   ],
   "source": [
    "def window(a, n):\n",
    "    return np.convolve(a, np.ones(n), 'valid') / n\n",
    "\n",
    "flattened = A.flatten()\n",
    "\n",
    "w3 = window(flattened, 3)\n",
    "w5 = window(flattened, 5)\n",
    "w10 = window(flattened, 10)\n",
    "\n",
    "np.array([np.resize(w3, A.shape), np.resize(w5, A.shape), np.resize(w10, A.shape)]).sum(0)"
   ]
  },
  {
   "cell_type": "markdown",
   "metadata": {},
   "source": [
    "# Задание 2.14 (8 баллов)\n",
    "\n",
    "Постройте график функции $$f(x) = (5  \\sin(2x) - \\cos^2(x) - 1 + |x^3| - x^2) / (x^2 + 1)$$  \n",
    "\n",
    "и производной от этой функции.  Найдите минимум с помощью `scipy` и обозначьте его на графике. На этой же оси постройте графики скользящего среднего этой функции с окном $1$, $2$, $5$."
   ]
  },
  {
   "cell_type": "code",
   "execution_count": 113,
   "metadata": {},
   "outputs": [
    {
     "data": {
      "image/png": "[encoded data removed]",
      "text/plain": [
       "<Figure size 1000x600 with 1 Axes>"
      ]
     },
     "metadata": {},
     "output_type": "display_data"
    }
   ],
   "source": [
    "import numpy as np\n",
    "import matplotlib.pyplot as plt\n",
    "from scipy.optimize import minimize\n",
    "\n",
    "\n",
    "def f(x):\n",
    "    return (5 * np.sin(2*x) - np.cos(x)**2 - 1 + np.abs(x**3) - x**2) / (x**2 + 1)\n",
    "\n",
    "# Определение производной функции\n",
    "def df(x):\n",
    "    return -(10*x*np.sin(2*x)+((-10*x**2)-10)*np.cos(2*x)+((-x**3)-3*x)*abs(x)+((-2*x**2)-2)*np.cos(x)*np.sin(x)-2*x*np.cos(x)**22)/(x**4+2*x**2+1)\n",
    "\n",
    "x = np.linspace(-5, 5, 100)\n",
    "\n",
    "# Построение графика функции\n",
    "plt.figure(figsize=(10, 6))\n",
    "plt.plot(x, f(x), label='f(x)')\n",
    "plt.plot(x, df(x), label=\"df(x)\")\n",
    "plt.xlabel('x')\n",
    "plt.ylabel('y')\n",
    "plt.title('График функции и её производной')\n",
    "plt.legend()\n",
    "plt.grid(True)\n",
    "\n",
    "# Нахождение минимума функции\n",
    "min_result = minimize(f, x0=0)\n",
    "min_x = min_result.x\n",
    "min_y = f(min_x)\n",
    "plt.scatter(min_x, min_y, color='red', label='Минимум')\n",
    "\n",
    "# Построение графиков скользящего среднего\n",
    "plt.plot(x,window(f(x),1), label=f'Скользящее среднее (окно {1})')\n",
    "plt.plot(x[:-1],window(f(x),2), label=f'Скользящее среднее (окно {2})')\n",
    "plt.plot(x[:-4],window(f(x),5), label=f'Скользящее среднее (окно {5})')\n",
    "\n",
    "plt.legend()\n",
    "plt.show()"
   ]
  },
  {
   "cell_type": "markdown",
   "metadata": {},
   "source": [
    "# Задание 2.15 (10 баллов)\n",
    "\n",
    "Есть следующий алгоритм семплинирования, на вход функции подается вектор из целых положительных чисел и число семплов."
   ]
  },
  {
   "cell_type": "code",
   "execution_count": 2,
   "metadata": {},
   "outputs": [
    {
     "data": {
      "text/plain": [
       "[0, 4, 4, 0, 0]"
      ]
     },
     "execution_count": 2,
     "metadata": {},
     "output_type": "execute_result"
    }
   ],
   "source": [
    "from typing import List \n",
    "\n",
    "def sample(x: List[int], c: int) -> List[int]:\n",
    "    assert len(x) > 0\n",
    "    \n",
    "    s = np.sum(x)\n",
    "    res = []\n",
    "    for _ in range(c):\n",
    "        val = s * np.random.random()\n",
    "        cur, idx = 0, 0        \n",
    "        while cur + x[idx] <= val:\n",
    "            cur += x[idx]\n",
    "            idx += 1\n",
    "            \n",
    "        res.append(idx)\n",
    "    return res\n",
    "\n",
    "            \n",
    "sample([50, 3, 1, 7, 20], 5)   "
   ]
  },
  {
   "cell_type": "markdown",
   "metadata": {},
   "source": [
    "Реализуйте данный алгоритм более оптимальным способом на массивах `numpy`, без использования циклов. Проверьте корректность и идентичность алгоритмов семплирования с помощью статистических тестов."
   ]
  },
  {
   "cell_type": "code",
   "execution_count": null,
   "metadata": {},
   "outputs": [],
   "source": []
  },
  {
   "cell_type": "markdown",
   "metadata": {},
   "source": [
    "# Задание 2.16 (5 баллов)\n",
    "\n",
    "Есть следующий алгоритм \"случайного блуждания\""
   ]
  },
  {
   "cell_type": "code",
   "execution_count": 3,
   "metadata": {},
   "outputs": [
    {
     "data": {
      "text/plain": [
       "2003"
      ]
     },
     "execution_count": 3,
     "metadata": {},
     "output_type": "execute_result"
    }
   ],
   "source": [
    "import random \n",
    "\n",
    "def walk(n: int):\n",
    "    cur_position = 0\n",
    "    for i in range(n):\n",
    "        cur_position += random.choice([-3, -1, 0, 2, 3])\n",
    "\n",
    "    return cur_position\n",
    "\n",
    "walk(10_000)"
   ]
  },
  {
   "cell_type": "markdown",
   "metadata": {},
   "source": [
    "Реализуйте более эффективную версию с помощью `numpy`, сравните производительность (используя, например, magic `timeit`). Воспользовавшись [kdeplot()](https://seaborn.pydata.org/generated/seaborn.kdeplot.html) или аналогами, постройте график распределения значений `walk(10_000)` на каком-то разумном числе запусков. "
   ]
  },
  {
   "cell_type": "code",
   "execution_count": null,
   "metadata": {},
   "outputs": [],
   "source": []
  },
  {
   "cell_type": "markdown",
   "metadata": {},
   "source": [
    "# Задание 2.17 (5 баллов)\n",
    "\n",
    "Имеется функция, которая проделывает достаточно странные манипуляции с массивом `numpy`"
   ]
  },
  {
   "cell_type": "code",
   "execution_count": 4,
   "metadata": {},
   "outputs": [
    {
     "data": {
      "text/plain": [
       "-0.13580565475012618"
      ]
     },
     "execution_count": 4,
     "metadata": {},
     "output_type": "execute_result"
    }
   ],
   "source": [
    "import numpy.typing as npt\n",
    "\n",
    "def strange_conv(a: npt.NDArray[np.float64]) -> np.float64:\n",
    "    x = a.shape[0]\n",
    "    y = a.shape[1]\n",
    "\n",
    "    t = 1.\n",
    "    for y in range(y - 5):\n",
    "        for x in range(x - 3):\n",
    "            c = 1.5 * a[y+1, x+2] - a[y+5, x+3] * a[y, x] + 0.2 * a[y+4, x]\n",
    "            t = 0.2 * t + 0.8 * c\n",
    "\n",
    "    return t\n",
    "\n",
    "\n",
    "a = np.random.random((10000, 10000))\n",
    "strange_conv(a)\n"
   ]
  },
  {
   "cell_type": "markdown",
   "metadata": {},
   "source": [
    "Оптимизируйте данную функцию с помощью (2 на выбор):\n",
    "- [Numba](https://numba.pydata.org)\n",
    "- `Cython` (+5 баллов)\n",
    "- [Taichi](https://github.com/taichi-dev/taichi) (+5 баллов)\n",
    "- `Pythran `[[1]](https://pythran.readthedocs.io/en/latest/), [[2]](https://serge-sans-paille.github.io/pythran-stories/pythran-tutorial.html) (+2 балла)\n",
    "\n",
    "Сравните производительность."
   ]
  },
  {
   "cell_type": "code",
   "execution_count": null,
   "metadata": {},
   "outputs": [],
   "source": []
  }
 ],
 "metadata": {
  "kernelspec": {
   "display_name": "Python 3.10.6 64-bit",
   "language": "python",
   "name": "python3"
  },
  "language_info": {
   "codemirror_mode": {
    "name": "ipython",
    "version": 3
   },
   "file_extension": ".py",
   "mimetype": "text/x-python",
   "name": "python",
   "nbconvert_exporter": "python",
   "pygments_lexer": "ipython3",
   "version": "3.11.2"
  },
  "orig_nbformat": 4,
  "vscode": {
   "interpreter": {
    "hash": "916dbcbb3f70747c44a77c7bcd40155683ae19c65e1c03b4aa3499c5328201f1"
   }
  }
 },
 "nbformat": 4,
 "nbformat_minor": 2
}
